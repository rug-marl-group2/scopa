{
 "cells": [
  {
   "cell_type": "code",
   "execution_count": 5,
   "id": "dd0ac69d",
   "metadata": {},
   "outputs": [
    {
     "name": "stdout",
     "output_type": "stream",
     "text": [
      "## 1. Initial State is a Chance Node\n",
      "Is this a chance node? -> True\n",
      "------------------------------\n",
      "\n",
      "## 2. Shapes at a Player Decision Node\n",
      "Is this a chance node now? -> False\n",
      "Is this a terminal node? -> False\n",
      "Current player: 0\n",
      "  - state.returns():                Shape = (2,), Type = <class 'numpy.ndarray'>\n",
      "  - state.information_state_tensor(): Shape = (11,), Type = <class 'numpy.ndarray'>\n",
      "  - state.observation_tensor():     Shape = (7,), Type = <class 'numpy.ndarray'>\n",
      "  - state.legal_actions():          Length = 2, Type = <class 'numpy.ndarray'>\n",
      "  - state.legal_actions_mask():     Shape = (2,), Type = <class 'numpy.ndarray'>\n",
      "------------------------------\n",
      "\n",
      "## 3. Shapes at a Terminal Node\n",
      "Is this a terminal node? -> True\n",
      "  - state.returns():                Shape = (2,), Type = <class 'numpy.ndarray'>\n",
      "  - Final value: [-1.  1.]\n"
     ]
    }
   ],
   "source": [
    "import pyspiel\n",
    "import numpy as np\n",
    "\n",
    "# Load a simple game like Kuhn Poker to demonstrate\n",
    "game = pyspiel.load_game(\"kuhn_poker\")\n",
    "state = game.new_initial_state()\n",
    "\n",
    "print(\"## 1. Initial State is a Chance Node\")\n",
    "print(f\"Is this a chance node? -> {state.is_chance_node()}\")\n",
    "print(\"-\" * 30)\n",
    "\n",
    "\n",
    "while state.is_chance_node():\n",
    "    # In Kuhn Poker, chance outcomes are deterministic for simplicity,\n",
    "    # so we just take the first available one.\n",
    "    first_chance_outcome = state.chance_outcomes()[0][0]\n",
    "    state.apply_action(first_chance_outcome)\n",
    "\n",
    "\n",
    "print(\"\\n## 2. Shapes at a Player Decision Node\")\n",
    "print(f\"Is this a chance node now? -> {state.is_chance_node()}\")\n",
    "print(f\"Is this a terminal node? -> {state.is_terminal()}\")\n",
    "current_p = state.current_player()\n",
    "print(f\"Current player: {current_p}\")\n",
    "\n",
    "# Get all relevant items from the state\n",
    "returns_val = np.array(state.returns())\n",
    "info_state_tensor = np.array(state.information_state_tensor(current_p))\n",
    "obs_tensor = np.array(state.observation_tensor(current_p))\n",
    "legal_actions_list = state.legal_actions()\n",
    "legal_actions_mask = np.array(state.legal_actions_mask())\n",
    "\n",
    "# Print the shape and type of each item\n",
    "print(f\"  - state.returns():                Shape = {returns_val.shape}, Type = {type(returns_val)}\")\n",
    "print(f\"  - state.information_state_tensor(): Shape = {info_state_tensor.shape}, Type = {type(info_state_tensor)}\")\n",
    "print(f\"  - state.observation_tensor():     Shape = {obs_tensor.shape}, Type = {type(obs_tensor)}\")\n",
    "print(f\"  - state.legal_actions():          Length = {np.array(legal_actions_list).size}, Type = {type(np.ndarray(legal_actions_list))}\")\n",
    "print(f\"  - state.legal_actions_mask():     Shape = {legal_actions_mask.shape}, Type = {type(legal_actions_mask)}\")\n",
    "print(\"-\" * 30)\n",
    "\n",
    "\n",
    "# Move to a terminal state by having both players pass\n",
    "state.apply_action(0)  # Player 0 passes\n",
    "state.apply_action(0)  # Player 1 passes\n",
    "\n",
    "\n",
    "print(\"\\n## 3. Shapes at a Terminal Node\")\n",
    "print(f\"Is this a terminal node? -> {state.is_terminal()}\")\n",
    "\n",
    "# At a terminal state, the returns() method is most important\n",
    "returns_val_terminal = np.array(state.returns())\n",
    "print(f\"  - state.returns():                Shape = {returns_val_terminal.shape}, Type = {type(returns_val_terminal)}\")\n",
    "print(f\"  - Final value: {returns_val_terminal}\")"
   ]
  }
 ],
 "metadata": {
  "kernelspec": {
   "display_name": ".venv",
   "language": "python",
   "name": "python3"
  },
  "language_info": {
   "codemirror_mode": {
    "name": "ipython",
    "version": 3
   },
   "file_extension": ".py",
   "mimetype": "text/x-python",
   "name": "python",
   "nbconvert_exporter": "python",
   "pygments_lexer": "ipython3",
   "version": "3.11.13"
  }
 },
 "nbformat": 4,
 "nbformat_minor": 5
}
